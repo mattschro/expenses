{
 "cells": [
  {
   "cell_type": "markdown",
   "metadata": {},
   "source": [
    "## Expense Automation\n",
    "This goes through previous expense reports and automatically fills in the new expense report form."
   ]
  },
  {
   "cell_type": "code",
   "execution_count": 39,
   "metadata": {},
   "outputs": [],
   "source": [
    "# importing libraries\n",
    "import pandas as pd\n",
    "import os\n",
    "import openpyxl"
   ]
  },
  {
   "attachments": {},
   "cell_type": "markdown",
   "metadata": {},
   "source": [
    "Reading in the old files."
   ]
  },
  {
   "cell_type": "code",
   "execution_count": 40,
   "metadata": {},
   "outputs": [],
   "source": [
    "dfs = []\n",
    "expense_pars = []\n",
    "for file in os.listdir('previous_companies'):\n",
    "    # if the file is a csv file\n",
    "    if file.endswith('.csv'):\n",
    "        # read the csv file\n",
    "        df = pd.read_csv('previous_companies/' + file)\n",
    "        # add the company name to the dataframe\n",
    "        df['company'] = file.split('.')[0]\n",
    "        # append the dataframe to the list of dataframes\n",
    "        dfs.append(df)\n",
    "    # read .xlsx files using the same method\n",
    "    elif file.endswith('.xlsx'):\n",
    "        df = pd.read_excel('previous_companies/' + file)\n",
    "        df['company'] = file.split('.')[0]\n",
    "        dfs.append(df)"
   ]
  },
  {
   "attachments": {},
   "cell_type": "markdown",
   "metadata": {},
   "source": [
    "Cleaning data."
   ]
  },
  {
   "cell_type": "code",
   "execution_count": 41,
   "metadata": {},
   "outputs": [
    {
     "data": {
      "text/html": [
       "<div>\n",
       "<style scoped>\n",
       "    .dataframe tbody tr th:only-of-type {\n",
       "        vertical-align: middle;\n",
       "    }\n",
       "\n",
       "    .dataframe tbody tr th {\n",
       "        vertical-align: top;\n",
       "    }\n",
       "\n",
       "    .dataframe thead th {\n",
       "        text-align: right;\n",
       "    }\n",
       "</style>\n",
       "<table border=\"1\" class=\"dataframe\">\n",
       "  <thead>\n",
       "    <tr style=\"text-align: right;\">\n",
       "      <th></th>\n",
       "      <th>Line Item</th>\n",
       "      <th>Category</th>\n",
       "      <th>company</th>\n",
       "    </tr>\n",
       "  </thead>\n",
       "  <tbody>\n",
       "    <tr>\n",
       "      <th>0</th>\n",
       "      <td>6005.1 • Administrator</td>\n",
       "      <td>Nursing Administration</td>\n",
       "      <td>company_a</td>\n",
       "    </tr>\n",
       "    <tr>\n",
       "      <th>1</th>\n",
       "      <td>6005.1 • Activities - Wages</td>\n",
       "      <td>Activities And Social Services</td>\n",
       "      <td>company_a</td>\n",
       "    </tr>\n",
       "    <tr>\n",
       "      <th>2</th>\n",
       "      <td>6005.2 • ALA</td>\n",
       "      <td>Nursing Care</td>\n",
       "      <td>company_a</td>\n",
       "    </tr>\n",
       "    <tr>\n",
       "      <th>3</th>\n",
       "      <td>6005.21 • Clerical</td>\n",
       "      <td>Nursing Administration</td>\n",
       "      <td>company_a</td>\n",
       "    </tr>\n",
       "    <tr>\n",
       "      <th>4</th>\n",
       "      <td>6005.3 • Cooks</td>\n",
       "      <td>Other Dietary</td>\n",
       "      <td>company_a</td>\n",
       "    </tr>\n",
       "    <tr>\n",
       "      <th>0</th>\n",
       "      <td>6005 • Salaries &amp; Wages</td>\n",
       "      <td>G&amp;A</td>\n",
       "      <td>company_b</td>\n",
       "    </tr>\n",
       "    <tr>\n",
       "      <th>1</th>\n",
       "      <td>6015.1 • Food Purchases</td>\n",
       "      <td>Raw Food</td>\n",
       "      <td>company_b</td>\n",
       "    </tr>\n",
       "    <tr>\n",
       "      <th>2</th>\n",
       "      <td>7180 • Consulting</td>\n",
       "      <td>Addback Expense</td>\n",
       "      <td>company_b</td>\n",
       "    </tr>\n",
       "    <tr>\n",
       "      <th>3</th>\n",
       "      <td>7181 • Contract Labor - Third Party</td>\n",
       "      <td>Agency</td>\n",
       "      <td>company_b</td>\n",
       "    </tr>\n",
       "  </tbody>\n",
       "</table>\n",
       "</div>"
      ],
      "text/plain": [
       "                             Line Item                        Category  \\\n",
       "0               6005.1 • Administrator          Nursing Administration   \n",
       "1          6005.1 • Activities - Wages  Activities And Social Services   \n",
       "2                         6005.2 • ALA                    Nursing Care   \n",
       "3                   6005.21 • Clerical          Nursing Administration   \n",
       "4                       6005.3 • Cooks                   Other Dietary   \n",
       "0              6005 • Salaries & Wages                             G&A   \n",
       "1              6015.1 • Food Purchases                        Raw Food   \n",
       "2                    7180 • Consulting                 Addback Expense   \n",
       "3  7181 • Contract Labor - Third Party                          Agency   \n",
       "\n",
       "     company  \n",
       "0  company_a  \n",
       "1  company_a  \n",
       "2  company_a  \n",
       "3  company_a  \n",
       "4  company_a  \n",
       "0  company_b  \n",
       "1  company_b  \n",
       "2  company_b  \n",
       "3  company_b  "
      ]
     },
     "execution_count": 41,
     "metadata": {},
     "output_type": "execute_result"
    }
   ],
   "source": [
    "# making dfs one dataframe\n",
    "df = pd.concat(dfs)\n",
    "df"
   ]
  },
  {
   "attachments": {},
   "cell_type": "markdown",
   "metadata": {},
   "source": [
    "Taking substring of Line Items (i.e. removing #s). Only run this code chunk once or else you'll get errors."
   ]
  },
  {
   "cell_type": "code",
   "execution_count": 42,
   "metadata": {},
   "outputs": [],
   "source": [
    "# splitting line item by • and adding it to a new column\n",
    "df['cleaned_line_item'] = df['Line Item'].str.split('•').str[-1]\n",
    "# removing leading and trailing spaces\n",
    "df['cleaned_line_item'] = df['cleaned_line_item'].str.strip()\n",
    "# deleting the old line item column\n",
    "del df['Line Item']"
   ]
  },
  {
   "cell_type": "code",
   "execution_count": 44,
   "metadata": {},
   "outputs": [
    {
     "data": {
      "text/html": [
       "<div>\n",
       "<style scoped>\n",
       "    .dataframe tbody tr th:only-of-type {\n",
       "        vertical-align: middle;\n",
       "    }\n",
       "\n",
       "    .dataframe tbody tr th {\n",
       "        vertical-align: top;\n",
       "    }\n",
       "\n",
       "    .dataframe thead th {\n",
       "        text-align: right;\n",
       "    }\n",
       "</style>\n",
       "<table border=\"1\" class=\"dataframe\">\n",
       "  <thead>\n",
       "    <tr style=\"text-align: right;\">\n",
       "      <th></th>\n",
       "      <th>Category</th>\n",
       "      <th>company</th>\n",
       "      <th>cleaned_line_item</th>\n",
       "    </tr>\n",
       "  </thead>\n",
       "  <tbody>\n",
       "    <tr>\n",
       "      <th>0</th>\n",
       "      <td>Nursing Administration</td>\n",
       "      <td>company_a</td>\n",
       "      <td>Administrator</td>\n",
       "    </tr>\n",
       "    <tr>\n",
       "      <th>1</th>\n",
       "      <td>Activities And Social Services</td>\n",
       "      <td>company_a</td>\n",
       "      <td>Activities - Wages</td>\n",
       "    </tr>\n",
       "    <tr>\n",
       "      <th>2</th>\n",
       "      <td>Nursing Care</td>\n",
       "      <td>company_a</td>\n",
       "      <td>ALA</td>\n",
       "    </tr>\n",
       "    <tr>\n",
       "      <th>3</th>\n",
       "      <td>Nursing Administration</td>\n",
       "      <td>company_a</td>\n",
       "      <td>Clerical</td>\n",
       "    </tr>\n",
       "    <tr>\n",
       "      <th>4</th>\n",
       "      <td>Other Dietary</td>\n",
       "      <td>company_a</td>\n",
       "      <td>Cooks</td>\n",
       "    </tr>\n",
       "    <tr>\n",
       "      <th>0</th>\n",
       "      <td>G&amp;A</td>\n",
       "      <td>company_b</td>\n",
       "      <td>Salaries &amp; Wages</td>\n",
       "    </tr>\n",
       "    <tr>\n",
       "      <th>1</th>\n",
       "      <td>Raw Food</td>\n",
       "      <td>company_b</td>\n",
       "      <td>Food Purchases</td>\n",
       "    </tr>\n",
       "    <tr>\n",
       "      <th>2</th>\n",
       "      <td>Addback Expense</td>\n",
       "      <td>company_b</td>\n",
       "      <td>Consulting</td>\n",
       "    </tr>\n",
       "    <tr>\n",
       "      <th>3</th>\n",
       "      <td>Agency</td>\n",
       "      <td>company_b</td>\n",
       "      <td>Contract Labor - Third Party</td>\n",
       "    </tr>\n",
       "  </tbody>\n",
       "</table>\n",
       "</div>"
      ],
      "text/plain": [
       "                         Category    company             cleaned_line_item\n",
       "0          Nursing Administration  company_a                 Administrator\n",
       "1  Activities And Social Services  company_a            Activities - Wages\n",
       "2                    Nursing Care  company_a                           ALA\n",
       "3          Nursing Administration  company_a                      Clerical\n",
       "4                   Other Dietary  company_a                         Cooks\n",
       "0                             G&A  company_b              Salaries & Wages\n",
       "1                        Raw Food  company_b                Food Purchases\n",
       "2                 Addback Expense  company_b                    Consulting\n",
       "3                          Agency  company_b  Contract Labor - Third Party"
      ]
     },
     "execution_count": 44,
     "metadata": {},
     "output_type": "execute_result"
    }
   ],
   "source": [
    "# making sure it worked\n",
    "df"
   ]
  },
  {
   "attachments": {},
   "cell_type": "markdown",
   "metadata": {},
   "source": [
    "Scraping old data for using Line Item / Category pairs."
   ]
  },
  {
   "cell_type": "code",
   "execution_count": 50,
   "metadata": {},
   "outputs": [],
   "source": [
    "# read through df and add unique pairs of category and line item to expense_pars\n",
    "expense_pars = []\n",
    "for index, row in df.iterrows():\n",
    "    if (row['Category'], row['cleaned_line_item']) not in expense_pars:\n",
    "        expense_pars.append((row['cleaned_line_item'], row['Category']))\n"
   ]
  },
  {
   "cell_type": "code",
   "execution_count": 51,
   "metadata": {},
   "outputs": [
    {
     "data": {
      "text/plain": [
       "[('Administrator', 'Nursing Administration'),\n",
       " ('Activities - Wages', 'Activities And Social Services'),\n",
       " ('ALA', 'Nursing Care'),\n",
       " ('Clerical', 'Nursing Administration'),\n",
       " ('Cooks', 'Other Dietary'),\n",
       " ('Salaries & Wages', 'G&A'),\n",
       " ('Food Purchases', 'Raw Food'),\n",
       " ('Consulting', 'Addback Expense'),\n",
       " ('Contract Labor - Third Party', 'Agency')]"
      ]
     },
     "execution_count": 51,
     "metadata": {},
     "output_type": "execute_result"
    }
   ],
   "source": [
    "expense_pars"
   ]
  },
  {
   "attachments": {},
   "cell_type": "markdown",
   "metadata": {},
   "source": [
    "Taking in a new company data."
   ]
  },
  {
   "cell_type": "code",
   "execution_count": 56,
   "metadata": {},
   "outputs": [
    {
     "data": {
      "text/html": [
       "<div>\n",
       "<style scoped>\n",
       "    .dataframe tbody tr th:only-of-type {\n",
       "        vertical-align: middle;\n",
       "    }\n",
       "\n",
       "    .dataframe tbody tr th {\n",
       "        vertical-align: top;\n",
       "    }\n",
       "\n",
       "    .dataframe thead th {\n",
       "        text-align: right;\n",
       "    }\n",
       "</style>\n",
       "<table border=\"1\" class=\"dataframe\">\n",
       "  <thead>\n",
       "    <tr style=\"text-align: right;\">\n",
       "      <th></th>\n",
       "      <th>Line Item</th>\n",
       "      <th>Category</th>\n",
       "    </tr>\n",
       "  </thead>\n",
       "  <tbody>\n",
       "    <tr>\n",
       "      <th>0</th>\n",
       "      <td>34 • Administrator</td>\n",
       "      <td>NaN</td>\n",
       "    </tr>\n",
       "    <tr>\n",
       "      <th>1</th>\n",
       "      <td>9.1.3213 • Activities - Wages</td>\n",
       "      <td>NaN</td>\n",
       "    </tr>\n",
       "    <tr>\n",
       "      <th>2</th>\n",
       "      <td>8905 • Salaries &amp; Wages</td>\n",
       "      <td>NaN</td>\n",
       "    </tr>\n",
       "    <tr>\n",
       "      <th>3</th>\n",
       "      <td>60 • Food Purchases</td>\n",
       "      <td>NaN</td>\n",
       "    </tr>\n",
       "    <tr>\n",
       "      <th>4</th>\n",
       "      <td>60 • Beer Purchases</td>\n",
       "      <td>NaN</td>\n",
       "    </tr>\n",
       "    <tr>\n",
       "      <th>5</th>\n",
       "      <td>60 • Decorations</td>\n",
       "      <td>NaN</td>\n",
       "    </tr>\n",
       "  </tbody>\n",
       "</table>\n",
       "</div>"
      ],
      "text/plain": [
       "                       Line Item  Category\n",
       "0             34 • Administrator       NaN\n",
       "1  9.1.3213 • Activities - Wages       NaN\n",
       "2        8905 • Salaries & Wages       NaN\n",
       "3            60 • Food Purchases       NaN\n",
       "4            60 • Beer Purchases       NaN\n",
       "5               60 • Decorations       NaN"
      ]
     },
     "execution_count": 56,
     "metadata": {},
     "output_type": "execute_result"
    }
   ],
   "source": [
    "new_co = pd.read_excel('new_company.xlsx')\n",
    "new_co"
   ]
  },
  {
   "cell_type": "code",
   "execution_count": 57,
   "metadata": {},
   "outputs": [
    {
     "data": {
      "text/html": [
       "<div>\n",
       "<style scoped>\n",
       "    .dataframe tbody tr th:only-of-type {\n",
       "        vertical-align: middle;\n",
       "    }\n",
       "\n",
       "    .dataframe tbody tr th {\n",
       "        vertical-align: top;\n",
       "    }\n",
       "\n",
       "    .dataframe thead th {\n",
       "        text-align: right;\n",
       "    }\n",
       "</style>\n",
       "<table border=\"1\" class=\"dataframe\">\n",
       "  <thead>\n",
       "    <tr style=\"text-align: right;\">\n",
       "      <th></th>\n",
       "      <th>Line Item</th>\n",
       "      <th>Category</th>\n",
       "    </tr>\n",
       "  </thead>\n",
       "  <tbody>\n",
       "    <tr>\n",
       "      <th>0</th>\n",
       "      <td>34 • Administrator</td>\n",
       "      <td>NaN</td>\n",
       "    </tr>\n",
       "    <tr>\n",
       "      <th>1</th>\n",
       "      <td>9.1.3213 • Activities - Wages</td>\n",
       "      <td>NaN</td>\n",
       "    </tr>\n",
       "    <tr>\n",
       "      <th>2</th>\n",
       "      <td>8905 • Salaries &amp; Wages</td>\n",
       "      <td>NaN</td>\n",
       "    </tr>\n",
       "    <tr>\n",
       "      <th>3</th>\n",
       "      <td>60 • Food Purchases</td>\n",
       "      <td>NaN</td>\n",
       "    </tr>\n",
       "    <tr>\n",
       "      <th>4</th>\n",
       "      <td>60 • Beer Purchases</td>\n",
       "      <td>NaN</td>\n",
       "    </tr>\n",
       "    <tr>\n",
       "      <th>5</th>\n",
       "      <td>60 • Decorations</td>\n",
       "      <td>NaN</td>\n",
       "    </tr>\n",
       "  </tbody>\n",
       "</table>\n",
       "</div>"
      ],
      "text/plain": [
       "                       Line Item  Category\n",
       "0             34 • Administrator       NaN\n",
       "1  9.1.3213 • Activities - Wages       NaN\n",
       "2        8905 • Salaries & Wages       NaN\n",
       "3            60 • Food Purchases       NaN\n",
       "4            60 • Beer Purchases       NaN\n",
       "5               60 • Decorations       NaN"
      ]
     },
     "execution_count": 57,
     "metadata": {},
     "output_type": "execute_result"
    }
   ],
   "source": [
    "new_co"
   ]
  },
  {
   "cell_type": "code",
   "execution_count": 60,
   "metadata": {},
   "outputs": [],
   "source": [
    "# splitting line item by • and adding it to a new column\n",
    "new_co['cleaned_line_item'] = new_co['Line Item'].str.split('•').str[-1]\n",
    "# removing leading and trailing spaces\n",
    "new_co['cleaned_line_item'] = new_co['cleaned_line_item'].str.strip()\n",
    "# deleting the old line item column\n",
    "del new_co['Line Item']"
   ]
  },
  {
   "attachments": {},
   "cell_type": "markdown",
   "metadata": {},
   "source": [
    "Transmitting learnings from old data to new_co."
   ]
  },
  {
   "cell_type": "code",
   "execution_count": 61,
   "metadata": {},
   "outputs": [],
   "source": [
    "# for loop that goes through each line item in new_co and check if the line item is in expense_pars 'cleaned_line iterm'. If it is, take the category from expense_pars and add it to the new_co dataframe\n",
    "for index, row in new_co.iterrows():\n",
    "    for expense_par in expense_pars:\n",
    "        if row['cleaned_line_item'] == expense_par[0]:\n",
    "            new_co.loc[index, 'Category'] = expense_par[1]\n",
    "            "
   ]
  },
  {
   "cell_type": "markdown",
   "metadata": {},
   "source": []
  },
  {
   "cell_type": "code",
   "execution_count": 64,
   "metadata": {},
   "outputs": [
    {
     "data": {
      "text/html": [
       "<div>\n",
       "<style scoped>\n",
       "    .dataframe tbody tr th:only-of-type {\n",
       "        vertical-align: middle;\n",
       "    }\n",
       "\n",
       "    .dataframe tbody tr th {\n",
       "        vertical-align: top;\n",
       "    }\n",
       "\n",
       "    .dataframe thead th {\n",
       "        text-align: right;\n",
       "    }\n",
       "</style>\n",
       "<table border=\"1\" class=\"dataframe\">\n",
       "  <thead>\n",
       "    <tr style=\"text-align: right;\">\n",
       "      <th></th>\n",
       "      <th>cleaned_line_item</th>\n",
       "      <th>Category</th>\n",
       "    </tr>\n",
       "  </thead>\n",
       "  <tbody>\n",
       "    <tr>\n",
       "      <th>0</th>\n",
       "      <td>Administrator</td>\n",
       "      <td>Nursing Administration</td>\n",
       "    </tr>\n",
       "    <tr>\n",
       "      <th>1</th>\n",
       "      <td>Activities - Wages</td>\n",
       "      <td>Activities And Social Services</td>\n",
       "    </tr>\n",
       "    <tr>\n",
       "      <th>2</th>\n",
       "      <td>Salaries &amp; Wages</td>\n",
       "      <td>G&amp;A</td>\n",
       "    </tr>\n",
       "    <tr>\n",
       "      <th>3</th>\n",
       "      <td>Food Purchases</td>\n",
       "      <td>Raw Food</td>\n",
       "    </tr>\n",
       "    <tr>\n",
       "      <th>4</th>\n",
       "      <td>Beer Purchases</td>\n",
       "      <td>NaN</td>\n",
       "    </tr>\n",
       "    <tr>\n",
       "      <th>5</th>\n",
       "      <td>Decorations</td>\n",
       "      <td>NaN</td>\n",
       "    </tr>\n",
       "  </tbody>\n",
       "</table>\n",
       "</div>"
      ],
      "text/plain": [
       "    cleaned_line_item                        Category\n",
       "0       Administrator          Nursing Administration\n",
       "1  Activities - Wages  Activities And Social Services\n",
       "2    Salaries & Wages                             G&A\n",
       "3      Food Purchases                        Raw Food\n",
       "4      Beer Purchases                             NaN\n",
       "5         Decorations                             NaN"
      ]
     },
     "execution_count": 64,
     "metadata": {},
     "output_type": "execute_result"
    }
   ],
   "source": [
    "# switching the order of the columns in new_co\n",
    "new_co = new_co[['cleaned_line_item', 'Category']]\n",
    "new_co"
   ]
  },
  {
   "attachments": {},
   "cell_type": "markdown",
   "metadata": {},
   "source": [
    "Writing to a new csv."
   ]
  },
  {
   "cell_type": "code",
   "execution_count": 65,
   "metadata": {},
   "outputs": [],
   "source": [
    "# write the new_co dataframe to a new excel file\n",
    "new_co.to_excel('new_company_cleaned.xlsx', index=False)"
   ]
  }
 ],
 "metadata": {
  "kernelspec": {
   "display_name": "base",
   "language": "python",
   "name": "python3"
  },
  "language_info": {
   "codemirror_mode": {
    "name": "ipython",
    "version": 3
   },
   "file_extension": ".py",
   "mimetype": "text/x-python",
   "name": "python",
   "nbconvert_exporter": "python",
   "pygments_lexer": "ipython3",
   "version": "3.9.5"
  },
  "orig_nbformat": 4,
  "vscode": {
   "interpreter": {
    "hash": "d15392977aa734490223d26b342679585e95cbc4787d918e060c2355fd65303e"
   }
  }
 },
 "nbformat": 4,
 "nbformat_minor": 2
}
